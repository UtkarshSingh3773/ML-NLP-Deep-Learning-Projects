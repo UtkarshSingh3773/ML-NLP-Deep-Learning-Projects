{
  "nbformat": 4,
  "nbformat_minor": 0,
  "metadata": {
    "colab": {
      "provenance": []
    },
    "kernelspec": {
      "name": "python3",
      "display_name": "Python 3"
    },
    "language_info": {
      "name": "python"
    }
  },
  "cells": [
    {
      "cell_type": "markdown",
      "metadata": {
        "id": "c40bd0cf"
      },
      "source": [
        "This cell imports the necessary Python libraries for PDF handling, Natural Language Processing, and building deep learning models."
      ]
    },
    {
      "cell_type": "code",
      "metadata": {
        "id": "e9cb83a4"
      },
      "source": [
        "# Import libraries\n",
        "import fitz  # PyMuPDF library for PDF handling\n",
        "import spacy # spaCy library for NLP\n",
        "import tensorflow as tf\n",
        "from tensorflow.keras.preprocessing.text import Tokenizer\n",
        "from tensorflow.keras.models import Sequential\n",
        "from tensorflow.keras.layers import Embedding, LSTM, Dense\n",
        "from tensorflow.keras.utils import to_categorical\n",
        "import numpy as np"
      ],
      "execution_count": 1,
      "outputs": []
    },
    {
      "cell_type": "markdown",
      "metadata": {
        "id": "f90a64f7"
      },
      "source": [
        "This cell defines a function to extract text content from a given PDF file."
      ]
    },
    {
      "cell_type": "code",
      "metadata": {
        "id": "5015b211"
      },
      "source": [
        "# Define a function to extract text from a PDF file\n",
        "# It takes the path to the PDF file as input\n",
        "def extract_text_from_pdf(pdf_path):\n",
        "    # Open the PDF document\n",
        "    doc = fitz.open(pdf_path)\n",
        "    text = \"\"\n",
        "    # Iterate through each page and extract text\n",
        "    for page in doc:\n",
        "        text += page.get_text()\n",
        "    return text"
      ],
      "execution_count": 2,
      "outputs": []
    },
    {
      "cell_type": "markdown",
      "metadata": {
        "id": "a7aeeeb2"
      },
      "source": [
        "This cell defines a function to preprocess the extracted text by converting it to lowercase and removing punctuation."
      ]
    },
    {
      "cell_type": "code",
      "metadata": {
        "id": "4d334545"
      },
      "source": [
        "# Define a function to preprocess the text for model training\n",
        "def preprocess_text(text):\n",
        "    # Convert to lowercase\n",
        "    text = text.lower()\n",
        "    # Remove punctuation (you might want a more sophisticated approach)\n",
        "    text = ''.join([char for char in text if char.isalnum() or char.isspace()])\n",
        "    return text"
      ],
      "execution_count": 3,
      "outputs": []
    },
    {
      "cell_type": "markdown",
      "metadata": {
        "id": "de818dfe"
      },
      "source": [
        "This cell defines a function to tokenize the text and create sequences suitable for training a language model. It also handles padding and separating input and output for training."
      ]
    },
    {
      "cell_type": "code",
      "metadata": {
        "id": "e9b68e82"
      },
      "source": [
        "# Define a function to tokenize the text and create sequences for training\n",
        "def create_sequences(text, sequence_length):\n",
        "    tokenizer = Tokenizer()\n",
        "    tokenizer.fit_on_texts([text])\n",
        "    total_words = len(tokenizer.word_index) + 1\n",
        "\n",
        "    input_sequences = []\n",
        "    for line in text.split('\\n'):\n",
        "        encoded_sequence = tokenizer.texts_to_sequences([line])[0]\n",
        "        for i in range(1, len(encoded_sequence)):\n",
        "            n_gram_sequence = encoded_sequence[:i+1]\n",
        "            input_sequences.append(n_gram_sequence)\n",
        "\n",
        "    # Pad sequences for uniform length\n",
        "    max_sequence_length = max([len(seq) for seq in input_sequences])\n",
        "    padded_sequences = tf.keras.preprocessing.sequence.pad_sequences(\n",
        "        input_sequences, maxlen=max_sequence_length, padding='pre'\n",
        "    )\n",
        "\n",
        "    # Separate input and output\n",
        "    xs, labels = padded_sequences[:, :-1], padded_sequences[:, -1]\n",
        "    ys = to_categorical(labels, num_classes=total_words)\n",
        "\n",
        "    return xs, ys, tokenizer, max_sequence_length, total_words"
      ],
      "execution_count": 4,
      "outputs": []
    },
    {
      "cell_type": "markdown",
      "metadata": {
        "id": "de2e3ca5"
      },
      "source": [
        "This cell defines the architecture of the LSTM (Long Short-Term Memory) model used for next word prediction."
      ]
    },
    {
      "cell_type": "code",
      "metadata": {
        "id": "165e3cea"
      },
      "source": [
        "# Define a function to build the LSTM model for next word prediction\n",
        "def build_model(vocab_size, max_sequence_length):\n",
        "    model = Sequential()\n",
        "    model.add(Embedding(vocab_size, 100, input_length=max_sequence_length - 1))\n",
        "    model.add(LSTM(150))\n",
        "    model.add(Dense(vocab_size, activation='softmax'))\n",
        "    model.compile(loss='categorical_crossentropy', optimizer='adam', metrics=['accuracy'])\n",
        "    return model"
      ],
      "execution_count": 5,
      "outputs": []
    },
    {
      "cell_type": "markdown",
      "metadata": {
        "id": "908b653c"
      },
      "source": [
        "This cell defines a function to predict the next word in a given text sequence using the trained LSTM model."
      ]
    },
    {
      "cell_type": "code",
      "metadata": {
        "id": "b09f7f6c"
      },
      "source": [
        "# Define a function to predict the next word using the trained model\n",
        "def predict_next_word(model, tokenizer, max_sequence_length, text_sequence):\n",
        "    # Preprocess and tokenize the input sequence\n",
        "    preprocessed_sequence = preprocess_text(text_sequence)\n",
        "    encoded_sequence = tokenizer.texts_to_sequences([preprocessed_sequence])[0]\n",
        "    # Pad the sequence\n",
        "    padded_sequence = tf.keras.preprocessing.sequence.pad_sequences(\n",
        "        [encoded_sequence], maxlen=max_sequence_length - 1, padding='pre'\n",
        "    )\n",
        "    # Get model prediction\n",
        "    predicted_probabilities = model.predict(padded_sequence)\n",
        "    # Get the index of the word with the highest probability\n",
        "    predicted_word_index = np.argmax(predicted_probabilities, axis=-1)\n",
        "    # Map the index back to a word\n",
        "    predicted_word = tokenizer.index_word[predicted_word_index[0]]\n",
        "    return predicted_word"
      ],
      "execution_count": 6,
      "outputs": []
    },
    {
      "cell_type": "markdown",
      "metadata": {
        "id": "02c9717a"
      },
      "source": [
        "This is the main execution block. It specifies the PDF file path, calls the functions to extract and preprocess text, creates training sequences, builds the model, and includes commented-out code for training and prediction."
      ]
    },
    {
      "cell_type": "code",
      "metadata": {
        "colab": {
          "base_uri": "https://localhost:8080/",
          "height": 416
        },
        "id": "ef420ba2",
        "outputId": "a94f597b-7ced-4e10-b4c2-990dbafb180f"
      },
      "source": [
        "# Main execution block\n",
        "\n",
        "# Specify the path to the PDF file\n",
        "pdf_file_path = \"/content/john-stuart-mill_system-of-logic.pdf\"\n",
        "\n",
        "# Extract text from the PDF file\n",
        "print(f\"Extracting text from {pdf_file_path}...\")\n",
        "extracted_text = extract_text_from_pdf(pdf_file_path)\n",
        "print(\"Text extraction complete.\")\n",
        "\n",
        "# Preprocess the extracted text\n",
        "print(\"Preprocessing text...\")\n",
        "preprocessed_text = preprocess_text(extracted_text)\n",
        "print(\"Text preprocessing complete.\")\n",
        "\n",
        "# Define the sequence length for training\n",
        "sequence_length = 5  # You can adjust this based on your data and needs\n",
        "\n",
        "# Create sequences for training\n",
        "print(\"Creating sequences for model training...\")\n",
        "xs, ys, tokenizer, max_sequence_length, total_words = create_sequences(preprocessed_text, sequence_length)\n",
        "print(f\"Sequences created. Vocabulary size: {total_words}, Max sequence length: {max_sequence_length}\")\n",
        "\n",
        "# Build the model\n",
        "print(\"Building the LSTM model...\")\n",
        "model = build_model(total_words, max_sequence_length)\n",
        "print(\"Model built.\")\n",
        "model.summary() # Print a summary of the model architecture\n",
        "\n",
        "# Train the model (you'll likely need more data and epochs for good results)\n",
        "print(\"Starting model training...\")\n",
        "# Uncomment the line below to train the model\n",
        "model.fit(xs, ys, epochs=100, verbose=1)\n",
        "print(\"Model training complete (if uncommented and run).\")\n",
        "\n",
        "# --- Example of how to use the prediction function (after training) ---\n",
        "# Note: You need to train the model first by uncommenting model.fit\n",
        "print(\"\\nExample Prediction (requires trained model):\")\n",
        "input_text = \"this is an example\"\n",
        "if 'model' in locals() and len(xs) > 0: # Check if model is built and data exists\n",
        "    predicted_word = predict_next_word(model, tokenizer, max_sequence_length, input_text)\n",
        "    print(f\"The next predicted word after '{input_text}' is: {predicted_word}\")\n",
        "else:\n",
        "     print(\"Model is not trained or data not available for prediction.\")"
      ],
      "execution_count": null,
      "outputs": [
        {
          "output_type": "stream",
          "name": "stdout",
          "text": [
            "Extracting text from /content/john-stuart-mill_system-of-logic.pdf...\n",
            "Text extraction complete.\n",
            "Preprocessing text...\n",
            "Text preprocessing complete.\n",
            "Creating sequences for model training...\n",
            "Sequences created. Vocabulary size: 13802, Max sequence length: 29\n",
            "Building the LSTM model...\n",
            "Model built.\n"
          ]
        },
        {
          "output_type": "stream",
          "name": "stderr",
          "text": [
            "/usr/local/lib/python3.11/dist-packages/keras/src/layers/core/embedding.py:90: UserWarning: Argument `input_length` is deprecated. Just remove it.\n",
            "  warnings.warn(\n"
          ]
        },
        {
          "output_type": "display_data",
          "data": {
            "text/plain": [
              "\u001b[1mModel: \"sequential_1\"\u001b[0m\n"
            ],
            "text/html": [
              "<pre style=\"white-space:pre;overflow-x:auto;line-height:normal;font-family:Menlo,'DejaVu Sans Mono',consolas,'Courier New',monospace\"><span style=\"font-weight: bold\">Model: \"sequential_1\"</span>\n",
              "</pre>\n"
            ]
          },
          "metadata": {}
        },
        {
          "output_type": "display_data",
          "data": {
            "text/plain": [
              "┏━━━━━━━━━━━━━━━━━━━━━━━━━━━━━━━━━┳━━━━━━━━━━━━━━━━━━━━━━━━┳━━━━━━━━━━━━━━━┓\n",
              "┃\u001b[1m \u001b[0m\u001b[1mLayer (type)                   \u001b[0m\u001b[1m \u001b[0m┃\u001b[1m \u001b[0m\u001b[1mOutput Shape          \u001b[0m\u001b[1m \u001b[0m┃\u001b[1m \u001b[0m\u001b[1m      Param #\u001b[0m\u001b[1m \u001b[0m┃\n",
              "┡━━━━━━━━━━━━━━━━━━━━━━━━━━━━━━━━━╇━━━━━━━━━━━━━━━━━━━━━━━━╇━━━━━━━━━━━━━━━┩\n",
              "│ embedding_1 (\u001b[38;5;33mEmbedding\u001b[0m)         │ ?                      │   \u001b[38;5;34m0\u001b[0m (unbuilt) │\n",
              "├─────────────────────────────────┼────────────────────────┼───────────────┤\n",
              "│ lstm_1 (\u001b[38;5;33mLSTM\u001b[0m)                   │ ?                      │   \u001b[38;5;34m0\u001b[0m (unbuilt) │\n",
              "├─────────────────────────────────┼────────────────────────┼───────────────┤\n",
              "│ dense_1 (\u001b[38;5;33mDense\u001b[0m)                 │ ?                      │   \u001b[38;5;34m0\u001b[0m (unbuilt) │\n",
              "└─────────────────────────────────┴────────────────────────┴───────────────┘\n"
            ],
            "text/html": [
              "<pre style=\"white-space:pre;overflow-x:auto;line-height:normal;font-family:Menlo,'DejaVu Sans Mono',consolas,'Courier New',monospace\">┏━━━━━━━━━━━━━━━━━━━━━━━━━━━━━━━━━┳━━━━━━━━━━━━━━━━━━━━━━━━┳━━━━━━━━━━━━━━━┓\n",
              "┃<span style=\"font-weight: bold\"> Layer (type)                    </span>┃<span style=\"font-weight: bold\"> Output Shape           </span>┃<span style=\"font-weight: bold\">       Param # </span>┃\n",
              "┡━━━━━━━━━━━━━━━━━━━━━━━━━━━━━━━━━╇━━━━━━━━━━━━━━━━━━━━━━━━╇━━━━━━━━━━━━━━━┩\n",
              "│ embedding_1 (<span style=\"color: #0087ff; text-decoration-color: #0087ff\">Embedding</span>)         │ ?                      │   <span style=\"color: #00af00; text-decoration-color: #00af00\">0</span> (unbuilt) │\n",
              "├─────────────────────────────────┼────────────────────────┼───────────────┤\n",
              "│ lstm_1 (<span style=\"color: #0087ff; text-decoration-color: #0087ff\">LSTM</span>)                   │ ?                      │   <span style=\"color: #00af00; text-decoration-color: #00af00\">0</span> (unbuilt) │\n",
              "├─────────────────────────────────┼────────────────────────┼───────────────┤\n",
              "│ dense_1 (<span style=\"color: #0087ff; text-decoration-color: #0087ff\">Dense</span>)                 │ ?                      │   <span style=\"color: #00af00; text-decoration-color: #00af00\">0</span> (unbuilt) │\n",
              "└─────────────────────────────────┴────────────────────────┴───────────────┘\n",
              "</pre>\n"
            ]
          },
          "metadata": {}
        },
        {
          "output_type": "display_data",
          "data": {
            "text/plain": [
              "\u001b[1m Total params: \u001b[0m\u001b[38;5;34m0\u001b[0m (0.00 B)\n"
            ],
            "text/html": [
              "<pre style=\"white-space:pre;overflow-x:auto;line-height:normal;font-family:Menlo,'DejaVu Sans Mono',consolas,'Courier New',monospace\"><span style=\"font-weight: bold\"> Total params: </span><span style=\"color: #00af00; text-decoration-color: #00af00\">0</span> (0.00 B)\n",
              "</pre>\n"
            ]
          },
          "metadata": {}
        },
        {
          "output_type": "display_data",
          "data": {
            "text/plain": [
              "\u001b[1m Trainable params: \u001b[0m\u001b[38;5;34m0\u001b[0m (0.00 B)\n"
            ],
            "text/html": [
              "<pre style=\"white-space:pre;overflow-x:auto;line-height:normal;font-family:Menlo,'DejaVu Sans Mono',consolas,'Courier New',monospace\"><span style=\"font-weight: bold\"> Trainable params: </span><span style=\"color: #00af00; text-decoration-color: #00af00\">0</span> (0.00 B)\n",
              "</pre>\n"
            ]
          },
          "metadata": {}
        },
        {
          "output_type": "display_data",
          "data": {
            "text/plain": [
              "\u001b[1m Non-trainable params: \u001b[0m\u001b[38;5;34m0\u001b[0m (0.00 B)\n"
            ],
            "text/html": [
              "<pre style=\"white-space:pre;overflow-x:auto;line-height:normal;font-family:Menlo,'DejaVu Sans Mono',consolas,'Courier New',monospace\"><span style=\"font-weight: bold\"> Non-trainable params: </span><span style=\"color: #00af00; text-decoration-color: #00af00\">0</span> (0.00 B)\n",
              "</pre>\n"
            ]
          },
          "metadata": {}
        },
        {
          "output_type": "stream",
          "name": "stdout",
          "text": [
            "Starting model training...\n"
          ]
        }
      ]
    }
  ]
}